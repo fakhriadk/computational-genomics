{
  "nbformat": 4,
  "nbformat_minor": 0,
  "metadata": {
    "colab": {
      "provenance": []
    },
    "kernelspec": {
      "name": "python3",
      "display_name": "Python 3"
    },
    "language_info": {
      "name": "python"
    }
  },
  "cells": [
    {
      "cell_type": "code",
      "source": [
        "# defining the sets for nucleic acids, purines, and pyrimidines\n",
        "nucleic_acids = {'DNA', 'RNA'}\n",
        "purines = {'Adenine', 'Guanine'}\n",
        "pyrimidines = {'Cytosine', 'Thymine', 'Uracil'}\n",
        "\n",
        "# defining nitrogen bases for DNA and RNA using purines and pyrimidines\n",
        "dna_bases = purines.union({'Cytosine', 'Thymine'})\n",
        "rna_bases = purines.union({'Cytosine', 'Uracil'})\n",
        "\n",
        "print(\"DNA Bases:\", dna_bases)\n",
        "print(\"RNA Bases:\", rna_bases)"
      ],
      "metadata": {
        "colab": {
          "base_uri": "https://localhost:8080/"
        },
        "id": "0iFEcCEhi-Mp",
        "outputId": "9a30994f-dfa8-4aab-921c-e1bc2c008829"
      },
      "execution_count": 6,
      "outputs": [
        {
          "output_type": "stream",
          "name": "stdout",
          "text": [
            "DNA Bases: {'Adenine', 'Thymine', 'Cytosine', 'Guanine'}\n",
            "RNA Bases: {'Uracil', 'Adenine', 'Cytosine', 'Guanine'}\n"
          ]
        }
      ]
    },
    {
      "cell_type": "code",
      "source": [
        "# simplified codon to amino acid mapping for demonstration\n",
        "codon_map = {\n",
        "    'AUG': 'M',  # start codon\n",
        "    'UUU': 'F', 'UUC': 'F',  # phenylalanine\n",
        "    'UUA': 'L', 'UUG': 'L', 'CUU': 'L', 'CUC': 'L', 'CUA': 'L', 'CUG': 'L',  # leucine\n",
        "    # add more codons as needed\n",
        "}\n",
        "\n",
        "# example: we want to find sequences for a protein: \"FL\" (phenylalanine - leucine)\n",
        "protein_sequence = \"FL\"\n",
        "\n",
        "def find_sequences(protein, codon_map):\n",
        "    # reverse the codon_map to map amino acids to codons\n",
        "    amino_to_codons = {}\n",
        "    for codon, amino in codon_map.items():\n",
        "        if amino in amino_to_codons:\n",
        "            amino_to_codons[amino].append(codon)\n",
        "        else:\n",
        "            amino_to_codons[amino] = [codon]\n",
        "\n",
        "    # generate all possible codon sequences for the protein sequence\n",
        "    possible_sequences = [[]]\n",
        "    for amino in protein:\n",
        "        possible_sequences = [prev_seq + [new_codon] for prev_seq in possible_sequences for new_codon in amino_to_codons.get(amino, [])]\n",
        "\n",
        "    return [''.join(seq) for seq in possible_sequences]\n",
        "\n",
        "# example:\n",
        "sequences = find_sequences(protein_sequence, codon_map)\n",
        "print(\"Possible RNA sequences encoding the protein sequence '{}':\".format(protein_sequence))\n",
        "for seq in sequences:\n",
        "    print(seq)\n",
        "\n",
        "# to get DNA sequences, replace 'U' in RNA sequences with 'T'\n",
        "dna_sequences = [seq.replace('U', 'T') for seq in sequences]\n",
        "\n",
        "print(\"\\nPossible DNA sequences encoding the protein sequence '{}':\".format(protein_sequence))\n",
        "for seq in dna_sequences:\n",
        "    print(seq)"
      ],
      "metadata": {
        "colab": {
          "base_uri": "https://localhost:8080/"
        },
        "id": "gR2CdGXYjCAY",
        "outputId": "9d757da1-bcfb-4852-dd18-913eabbf33f5"
      },
      "execution_count": 9,
      "outputs": [
        {
          "output_type": "stream",
          "name": "stdout",
          "text": [
            "Possible RNA sequences encoding the protein sequence 'FL':\n",
            "UUUUUA\n",
            "UUUUUG\n",
            "UUUCUU\n",
            "UUUCUC\n",
            "UUUCUA\n",
            "UUUCUG\n",
            "UUCUUA\n",
            "UUCUUG\n",
            "UUCCUU\n",
            "UUCCUC\n",
            "UUCCUA\n",
            "UUCCUG\n",
            "\n",
            "Possible DNA sequences encoding the protein sequence 'FL':\n",
            "TTTTTA\n",
            "TTTTTG\n",
            "TTTCTT\n",
            "TTTCTC\n",
            "TTTCTA\n",
            "TTTCTG\n",
            "TTCTTA\n",
            "TTCTTG\n",
            "TTCCTT\n",
            "TTCCTC\n",
            "TTCCTA\n",
            "TTCCTG\n"
          ]
        }
      ]
    }
  ]
}