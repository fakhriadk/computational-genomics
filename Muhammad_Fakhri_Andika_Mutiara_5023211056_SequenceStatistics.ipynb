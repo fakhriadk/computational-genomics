{
  "nbformat": 4,
  "nbformat_minor": 0,
  "metadata": {
    "colab": {
      "provenance": []
    },
    "kernelspec": {
      "name": "python3",
      "display_name": "Python 3"
    },
    "language_info": {
      "name": "python"
    }
  },
  "cells": [
    {
      "cell_type": "code",
      "execution_count": 8,
      "metadata": {
        "colab": {
          "base_uri": "https://localhost:8080/"
        },
        "id": "iHKLL54EwVx6",
        "outputId": "fe1232af-c1ca-4bc2-f7b8-ee8c8f848472"
      },
      "outputs": [
        {
          "output_type": "stream",
          "name": "stdout",
          "text": [
            "Nucleotide statistics:\n",
            "G: 143 (23.83%)\n",
            "T: 152 (25.33%)\n",
            "C: 146 (24.33%)\n",
            "A: 159 (26.50%)\n",
            "\n",
            "Moving window analysis (CG and AT frequencies):\n",
            "\n",
            "CG frequencies:\n",
            "\n",
            "AT frequencies:\n"
          ]
        }
      ],
      "source": [
        "# Muhammad Fakhri Andika Mutiara\n",
        "# 5023211056\n",
        "# Computational Genomics (Q) - Sequence Statistics Assignment\n",
        "\n",
        "\n",
        "import collections\n",
        "\n",
        "# reading a fasta file\n",
        "def read_fasta(file_path):\n",
        "    with open(file_path, 'r') as file:\n",
        "        sequence = ''\n",
        "        for line in file:\n",
        "            if not line.startswith('>'):  # for skipping the headers/annotations in FASTA format\n",
        "                sequence += line.strip()\n",
        "    return sequence\n",
        "\n",
        "# calculating and printing the statistics for each nucleotide in a sequence\n",
        "def nucleotide_statistics(sequence):\n",
        "    total_bases = len(sequence)\n",
        "    base_counts = collections.Counter(sequence)\n",
        "    for base, count in base_counts.items():\n",
        "        print(f\"{base}: {count} ({count / total_bases:.2%})\")\n",
        "\n",
        "# performs a moving window analysis to calculate frequencies of 'CG' and 'AT' dimers across the DNA sequence\n",
        "def moving_window(sequence, window_size=1000, step=100):\n",
        "    dinucleotide_frequencies = {'CG': [], 'AT': []}\n",
        "    for i in range(0, len(sequence) - window_size + 1, step):\n",
        "        window = sequence[i:i+window_size]\n",
        "        cg_count = window.count('CG')\n",
        "        at_count = window.count('AT')\n",
        "\n",
        "    # calculating and recording the frequencies of 'CG' and 'AT' dimers.\n",
        "        dinucleotide_frequencies['CG'].append((i, cg_count / window_size))\n",
        "        dinucleotide_frequencies['AT'].append((i, at_count / window_size))\n",
        "    return dinucleotide_frequencies\n",
        "\n",
        "# extracting the DNA sequence from the example file\n",
        "def main():\n",
        "    file_path = 'examplefile.fasta'\n",
        "    sequence = read_fasta(file_path)\n",
        "\n",
        "    # printing the basic statistics about nucleotide composition\n",
        "    print(\"Nucleotide statistics:\")\n",
        "    nucleotide_statistics(sequence)\n",
        "\n",
        "    # perform and display the results of moving window analysis for 'CG' and 'AT'\n",
        "    window_size = 1000\n",
        "    step = 100\n",
        "    dinucleotide_frequencies = moving_window(sequence, window_size, step)\n",
        "\n",
        "    print(\"\\nMoving window analysis (CG and AT frequencies):\")\n",
        "    for dimer, frequencies in dinucleotide_frequencies.items():\n",
        "        print(f\"\\n{dimer} frequencies:\")\n",
        "        for position, freq in frequencies:\n",
        "            print(f\"Position {position}-{position+window_size}: {freq:.3f}\")\n",
        "\n",
        "if __name__ == \"__main__\":\n",
        "    main()"
      ]
    }
  ]
}