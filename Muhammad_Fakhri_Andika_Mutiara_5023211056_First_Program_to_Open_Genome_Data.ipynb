{
  "nbformat": 4,
  "nbformat_minor": 0,
  "metadata": {
    "colab": {
      "provenance": []
    },
    "kernelspec": {
      "name": "python3",
      "display_name": "Python 3"
    },
    "language_info": {
      "name": "python"
    }
  },
  "cells": [
    {
      "cell_type": "code",
      "source": [
        "from collections import Counter\n",
        "def read_fasta(fasta_file):\n",
        "\n",
        "   # reads a FASTA file and returns a dictionary with sequence identifiers as keys and sequences as values.\n",
        "    sequences = {}\n",
        "    with open(fasta_file, 'r') as file:\n",
        "        sequence_id = None\n",
        "        sequence = []\n",
        "        for line in file:\n",
        "            # checking if the line is a header\n",
        "            if line.startswith(\">\"):\n",
        "                # saving the previous sequence if it exists\n",
        "                if sequence_id is not None:\n",
        "                    sequences[sequence_id] = ''.join(sequence)\n",
        "                # reset for the new sequence\n",
        "                sequence_id = line[1:].strip()\n",
        "                sequence = []\n",
        "            else:\n",
        "                # add this line of sequence\n",
        "                sequence.append(line.strip())\n",
        "\n",
        "        # add the last sequence in the file to the dictionary\n",
        "        if sequence_id is not None:\n",
        "            sequences[sequence_id] = ''.join(sequence)\n",
        "    return sequences\n",
        "\n",
        "def calculate_nucleotide_frequency(sequence):\n",
        "    # calculating the frequencies of nucleotides (A, C, G, T) in a given sequence and prints the results.\n",
        "\n",
        "    # using Counter to count nucleotides efficiently\n",
        "    nucleotide_counts = Counter(sequence)\n",
        "\n",
        "    total_nucleotides = sum(nucleotide_counts.values())\n",
        "    if total_nucleotides > 0:\n",
        "        print(\"Frequency of nucleotides:\")\n",
        "        for nucleotide in \"ACGT\":\n",
        "            frequency = nucleotide_counts[nucleotide] / total_nucleotides\n",
        "            print(f\"{nucleotide}: {frequency:.4f}\")\n",
        "    else:\n",
        "        print(\"No nucleotides found.\")\n",
        "\n",
        "# replace 'example_fasta_file.fasta' with the path to your actual FASTA file\n",
        "fasta_file_path = 'example_fasta_file.fasta'\n",
        "sequences = read_fasta(fasta_file_path)\n",
        "\n",
        "first_sequence_id, first_sequence = next(iter(sequences.items()))\n",
        "print(f\"Stats for sequence ID: {first_sequence_id}\")\n",
        "calculate_nucleotide_frequency(first_sequence)\n"
      ],
      "metadata": {
        "colab": {
          "base_uri": "https://localhost:8080/"
        },
        "id": "HGGLMF8MqQ0f",
        "outputId": "c807bfc3-2117-471d-bb0e-59e6b3863275"
      },
      "execution_count": 4,
      "outputs": [
        {
          "output_type": "stream",
          "name": "stdout",
          "text": [
            "Stats for sequence ID: NC_001416.1 Enterobacteria phage lambda, complete genome\n",
            "Frequency of nucleotides:\n",
            "A: 0.2543\n",
            "C: 0.2343\n",
            "G: 0.2643\n",
            "T: 0.2471\n"
          ]
        }
      ]
    },
    {
      "cell_type": "code",
      "execution_count": null,
      "metadata": {
        "id": "5xCuYzpzp_fH"
      },
      "outputs": [],
      "source": []
    }
  ]
}